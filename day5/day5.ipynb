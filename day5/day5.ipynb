{
 "cells": [
  {
   "cell_type": "code",
   "execution_count": 1,
   "metadata": {
    "scrolled": true
   },
   "outputs": [],
   "source": [
    "with open('input.txt', 'r') as file:\n",
    "    lines = file.readlines()\n",
    "\n",
    "import re \n",
    "data = {'seeds': '',\n",
    "        'others': {}}\n",
    "try:\n",
    "    lines = lines\n",
    "    i = 0 \n",
    "    while True and i <= len(lines):\n",
    "        line = lines[i].strip() \n",
    "        if 'seeds' in line or 'map' in line:\n",
    "            pattern = '([^:\\d]+):'\n",
    "            temp = []\n",
    "            while lines[i] != '\\n':\n",
    "                line = lines[i].strip()\n",
    "                if re.search('[a-zA-z]', line):\n",
    "                    title = re.match(pattern, line)\n",
    "                if re.search('\\d', line):\n",
    "                    digits = re.findall('\\d+', line)\n",
    "                    digits = list(map(lambda x: int(x), digits))\n",
    "                    temp.append(digits)\n",
    "                i += 1\n",
    "\n",
    "            if title.group(1) == 'seeds':\n",
    "                data['seeds'] = digits\n",
    "            else:\n",
    "                data['others'][title.group(1)] = temp\n",
    "\n",
    "        else:\n",
    "            i += 1\n",
    "\n",
    "except Exception:\n",
    "    data['others'][title.group(1)] = temp\n",
    "\n"
   ]
  },
  {
   "cell_type": "code",
   "execution_count": 2,
   "metadata": {},
   "outputs": [],
   "source": [
    "class Node:\n",
    "    def __init__(self, current, parent = None):\n",
    "        self.current = current\n",
    "        self.parent = parent\n",
    "    \n",
    "    def __sub__(self, other):\n",
    "        return self.current - other\n",
    "\n",
    "def findloc(maps : list, item : int):\n",
    "    item = Node(item)\n",
    "    for map in maps.values():\n",
    "        for types in map:  \n",
    "            if types[1] <= item.current <= types[1] + types[2]:\n",
    "                item = Node(types[0] + (item - types[1]), parent = item)\n",
    "                break\n",
    "    return item\n"
   ]
  },
  {
   "cell_type": "code",
   "execution_count": 3,
   "metadata": {},
   "outputs": [
    {
     "name": "stdout",
     "output_type": "stream",
     "text": [
      "The Seed Number 1117825174 corresponds to the lowest loc number : 382895070\n"
     ]
    }
   ],
   "source": [
    "def main():\n",
    "    seeds = data['seeds']\n",
    "    dataSet = []\n",
    "    for seed in seeds:\n",
    "        result = findloc(data['others'], seed)\n",
    "        dataSet.append(result)\n",
    "\n",
    "    minValue = Node(float('inf'))\n",
    "    for i in dataSet:\n",
    "        if i.current < minValue.current:\n",
    "            minValue = i\n",
    "\n",
    "    iterate = minValue.parent \n",
    "    while iterate != None:\n",
    "        temp = iterate\n",
    "        iterate = iterate.parent\n",
    "\n",
    "    print(f'The Seed Number {temp.current} corresponds to the lowest loc number : {minValue.current}')\n",
    "\n",
    "main()"
   ]
  }
 ],
 "metadata": {
  "kernelspec": {
   "display_name": "Python 3 (ipykernel)",
   "language": "python",
   "name": "python3"
  },
  "language_info": {
   "codemirror_mode": {
    "name": "ipython",
    "version": 3
   },
   "file_extension": ".py",
   "mimetype": "text/x-python",
   "name": "python",
   "nbconvert_exporter": "python",
   "pygments_lexer": "ipython3",
   "version": "3.10.13"
  }
 },
 "nbformat": 4,
 "nbformat_minor": 4
}
