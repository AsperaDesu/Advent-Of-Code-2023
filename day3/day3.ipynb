{
 "cells": [
  {
   "cell_type": "code",
   "execution_count": 130,
   "metadata": {},
   "outputs": [],
   "source": [
    "with open('input.txt', 'r') as file:\n",
    "    lines = file.readlines()\n"
   ]
  },
  {
   "cell_type": "code",
   "execution_count": 131,
   "metadata": {},
   "outputs": [],
   "source": [
    "import re\n",
    "def isSymbol(character : str):\n",
    "    if re.match('\\W', character) != None: \n",
    "        if character == '.' or character == '\\n':\n",
    "            return False\n",
    "        return True\n",
    "    return False\n"
   ]
  },
  {
   "cell_type": "code",
   "execution_count": 132,
   "metadata": {},
   "outputs": [],
   "source": [
    "def lookAround(i, j):\n",
    "    for row in range(-1, 2):\n",
    "        if (res := i + row) < 0 or res >= len(lines):\n",
    "            continue\n",
    "        for col in range(-1, 2):\n",
    "            if (res2 := j + col) < 0 or res2 >= len(lines[res]):\n",
    "                continue\n",
    "            if isSymbol(lines[res][res2]):\n",
    "                # print('Found', lines[res][res2], lines[i][j], lines[i])\n",
    "                return True\n",
    "    return False\n"
   ]
  },
  {
   "cell_type": "code",
   "execution_count": 134,
   "metadata": {},
   "outputs": [
    {
     "name": "stdout",
     "output_type": "stream",
     "text": [
      "543867\n",
      "CPU times: user 24 ms, sys: 0 ns, total: 24 ms\n",
      "Wall time: 24 ms\n"
     ]
    }
   ],
   "source": [
    "nums = []\n",
    "for i in range(len(lines)):\n",
    "    add = ''\n",
    "    found = False\n",
    "    for j in range(len(lines[i])):\n",
    "        if (char := lines[i][j]).isdigit():\n",
    "            add += char\n",
    "            if not found:\n",
    "                if lookAround(i, j):\n",
    "                    found = True\n",
    "            \n",
    "        elif add != '':\n",
    "            if found:\n",
    "                nums.append(int(add))\n",
    "                found = False\n",
    "            \n",
    "            add = ''\n",
    "\n",
    "\n",
    "print(sum(nums))"
   ]
  }
 ],
 "metadata": {
  "kernelspec": {
   "display_name": "Python 3",
   "language": "python",
   "name": "python3"
  },
  "language_info": {
   "codemirror_mode": {
    "name": "ipython",
    "version": 3
   },
   "file_extension": ".py",
   "mimetype": "text/x-python",
   "name": "python",
   "nbconvert_exporter": "python",
   "pygments_lexer": "ipython3",
   "version": "3.10.13"
  }
 },
 "nbformat": 4,
 "nbformat_minor": 2
}
