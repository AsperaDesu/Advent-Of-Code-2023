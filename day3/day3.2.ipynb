{
 "cells": [
  {
   "cell_type": "code",
   "execution_count": 78,
   "metadata": {},
   "outputs": [],
   "source": [
    "with open('input.txt', 'r') as file:\n",
    "    lines = file.readlines()\n"
   ]
  },
  {
   "cell_type": "code",
   "execution_count": 79,
   "metadata": {},
   "outputs": [],
   "source": [
    "def findSet(i, j):\n",
    "    result = []\n",
    "    for move in [-1, 1]:\n",
    "        digits = ''\n",
    "        res = move + j\n",
    "        char = lines[i][res]\n",
    "        while True:\n",
    "            if ((0 <= res < len(lines)) == False):\n",
    "                break\n",
    "            if (char := lines[i][res]).isdigit() == False:\n",
    "                break\n",
    "            digits += char\n",
    "            res += move\n",
    "        result.append([digits])\n",
    "\n",
    "    front = result[0][0][::-1]\n",
    "    back = result[1][0]\n",
    "    return f'{front}{lines[i][j]}{back}'\n"
   ]
  },
  {
   "cell_type": "code",
   "execution_count": 80,
   "metadata": {},
   "outputs": [],
   "source": [
    "def lookAround(i, j):\n",
    "    result = []\n",
    "    for row in range(-1, 2):\n",
    "        res = row + i \n",
    "        if (0 <= res < len(lines)) == False:\n",
    "            continue\n",
    "        if len(result) > 2:\n",
    "            result = [0]\n",
    "            break \n",
    "        found = False\n",
    "        for col in range(-1, 2):\n",
    "            res2 = col + j\n",
    "            if (0 <= res2 < len(lines[res])) == False:\n",
    "                continue\n",
    "            if (char := lines[res][res2]).isdigit():\n",
    "                if found:\n",
    "                    continue\n",
    "                else:\n",
    "                    result.append(findSet(res, res2))\n",
    "                    found = True\n",
    "            else:\n",
    "                found = False\n",
    "    if len(result) != 2:\n",
    "        result = [0]\n",
    "    answer = 1\n",
    "    result = list(map(lambda x: int(x), result))\n",
    "    for num in result:\n",
    "        answer *= num\n",
    "    return answer\n"
   ]
  },
  {
   "cell_type": "code",
   "execution_count": 82,
   "metadata": {},
   "outputs": [
    {
     "name": "stdout",
     "output_type": "stream",
     "text": [
      "79613331\n",
      "CPU times: user 6.02 ms, sys: 0 ns, total: 6.02 ms\n",
      "Wall time: 6.57 ms\n"
     ]
    }
   ],
   "source": [
    "%%time\n",
    "nums = []\n",
    "for i in range(len(lines)):\n",
    "    add = ''\n",
    "    for j in range(len(lines[i])):\n",
    "        if lines[i][j] == '*':\n",
    "            multiply = lookAround(i, j)\n",
    "            nums.append(multiply)\n",
    "print(sum(nums))"
   ]
  }
 ],
 "metadata": {
  "kernelspec": {
   "display_name": "Python 3",
   "language": "python",
   "name": "python3"
  },
  "language_info": {
   "codemirror_mode": {
    "name": "ipython",
    "version": 3
   },
   "file_extension": ".py",
   "mimetype": "text/x-python",
   "name": "python",
   "nbconvert_exporter": "python",
   "pygments_lexer": "ipython3",
   "version": "3.10.13"
  }
 },
 "nbformat": 4,
 "nbformat_minor": 2
}
