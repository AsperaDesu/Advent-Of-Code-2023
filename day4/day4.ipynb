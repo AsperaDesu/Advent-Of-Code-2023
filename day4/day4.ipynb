{
 "cells": [
  {
   "cell_type": "code",
   "execution_count": 2,
   "metadata": {},
   "outputs": [],
   "source": [
    "with open('input.txt', 'r') as file:\n",
    "    lines = file.readlines()"
   ]
  },
  {
   "cell_type": "code",
   "execution_count": 3,
   "metadata": {},
   "outputs": [
    {
     "data": {
      "text/plain": [
       "[['36', '81', '27', '87', '25', '94', '13', '59', '45', '64'],\n",
       " ['68',\n",
       "  '19',\n",
       "  '95',\n",
       "  '12',\n",
       "  '27',\n",
       "  '45',\n",
       "  '70',\n",
       "  '16',\n",
       "  '42',\n",
       "  '80',\n",
       "  '36',\n",
       "  '87',\n",
       "  '64',\n",
       "  '78',\n",
       "  '63',\n",
       "  '21',\n",
       "  '81',\n",
       "  '35',\n",
       "  '57',\n",
       "  '25',\n",
       "  '54',\n",
       "  '59',\n",
       "  '94',\n",
       "  '52',\n",
       "  '38']]"
      ]
     },
     "execution_count": 3,
     "metadata": {},
     "output_type": "execute_result"
    }
   ],
   "source": [
    "import re\n",
    "splitPattern = re.compile('\\s*\\|\\s')\n",
    "def parseGame(line : str):\n",
    "    extract = re.match('Card\\s+(\\d+):\\s*(.+)', line, flags = re.IGNORECASE)\n",
    "    splitCards = re.split(splitPattern, extract.group(2))\n",
    "    result = []\n",
    "    for nums in splitCards:\n",
    "        result.append(re.split(re.compile('\\s+'), nums))\n",
    "    \n",
    "    return result\n",
    "    \n",
    "parseGame('Card   7: 36 81 27 87 25 94 13 59 45 64 | 68 19 95 12 27 45 70 16 42 80 36 87 64 78 63 21 81 35 57 25 54 59 94 52 38')\n"
   ]
  },
  {
   "cell_type": "code",
   "execution_count": 7,
   "metadata": {},
   "outputs": [
    {
     "name": "stdout",
     "output_type": "stream",
     "text": [
      "21568\n"
     ]
    }
   ],
   "source": [
    "def main():\n",
    "    result = 0 \n",
    "    for line in lines:\n",
    "        total = 0.5\n",
    "        winning, owned = parseGame(line)\n",
    "        for num in winning:\n",
    "            if num in owned:\n",
    "                total *= 2\n",
    "        total = 0 if total == 0.5 else total\n",
    "        result += total\n",
    "    \n",
    "    print(int(result))\n",
    "\n",
    "main()"
   ]
  },
  {
   "cell_type": "code",
   "execution_count": 5,
   "metadata": {},
   "outputs": [
    {
     "ename": "TypeError",
     "evalue": "can only assign an iterable",
     "output_type": "error",
     "traceback": [
      "\u001b[0;31m---------------------------------------------------------------------------\u001b[0m",
      "\u001b[0;31mTypeError\u001b[0m                                 Traceback (most recent call last)",
      "Cell \u001b[0;32mIn[5], line 2\u001b[0m\n\u001b[1;32m      1\u001b[0m asdf \u001b[38;5;241m=\u001b[39m [\u001b[38;5;241m1\u001b[39m,\u001b[38;5;241m2\u001b[39m,\u001b[38;5;241m4\u001b[39m,\u001b[38;5;241m2\u001b[39m]\n\u001b[0;32m----> 2\u001b[0m \u001b[43masdf\u001b[49m\u001b[43m[\u001b[49m\u001b[43m:\u001b[49m\u001b[38;5;241;43m0\u001b[39;49m\u001b[43m]\u001b[49m \u001b[38;5;241m=\u001b[39m \u001b[38;5;241m1\u001b[39m\n\u001b[1;32m      3\u001b[0m asdf\n",
      "\u001b[0;31mTypeError\u001b[0m: can only assign an iterable"
     ]
    }
   ],
   "source": []
  },
  {
   "cell_type": "code",
   "execution_count": null,
   "metadata": {},
   "outputs": [],
   "source": []
  }
 ],
 "metadata": {
  "kernelspec": {
   "display_name": "Python 3",
   "language": "python",
   "name": "python3"
  },
  "language_info": {
   "codemirror_mode": {
    "name": "ipython",
    "version": 3
   },
   "file_extension": ".py",
   "mimetype": "text/x-python",
   "name": "python",
   "nbconvert_exporter": "python",
   "pygments_lexer": "ipython3",
   "version": "3.10.13"
  }
 },
 "nbformat": 4,
 "nbformat_minor": 2
}
