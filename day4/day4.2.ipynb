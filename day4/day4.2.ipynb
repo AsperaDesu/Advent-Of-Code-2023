{
 "cells": [
  {
   "cell_type": "code",
   "execution_count": 11,
   "metadata": {},
   "outputs": [],
   "source": [
    "with open('input.txt', 'r') as file:\n",
    "    lines = file.readlines()"
   ]
  },
  {
   "cell_type": "code",
   "execution_count": 23,
   "metadata": {},
   "outputs": [
    {
     "data": {
      "text/plain": [
       "{'ID': '7',\n",
       " 'result': [['36', '81', '27', '87', '25', '94', '13', '59', '45', '64'],\n",
       "  ['68',\n",
       "   '19',\n",
       "   '95',\n",
       "   '12',\n",
       "   '27',\n",
       "   '45',\n",
       "   '70',\n",
       "   '16',\n",
       "   '42',\n",
       "   '80',\n",
       "   '36',\n",
       "   '87',\n",
       "   '64',\n",
       "   '78',\n",
       "   '63',\n",
       "   '21',\n",
       "   '81',\n",
       "   '35',\n",
       "   '57',\n",
       "   '25',\n",
       "   '54',\n",
       "   '59',\n",
       "   '94',\n",
       "   '52',\n",
       "   '38']]}"
      ]
     },
     "execution_count": 23,
     "metadata": {},
     "output_type": "execute_result"
    }
   ],
   "source": [
    "import re\n",
    "splitPattern = re.compile('\\s*\\|\\s')\n",
    "def parseGame(line : str):\n",
    "    extract = re.match('Card\\s+(\\d+):\\s*(.+)', line, flags = re.IGNORECASE)\n",
    "    splitCards = re.split(splitPattern, extract.group(2))\n",
    "    result = []\n",
    "    for nums in splitCards:\n",
    "        result.append(re.split(re.compile('\\s+'), nums))\n",
    "    \n",
    "    parse = {}\n",
    "    parse['ID'] = extract.group(1)\n",
    "    parse['result'] = result\n",
    "    \n",
    "    return parse\n",
    "    \n",
    "parseGame('Card   7: 36 81 27 87 25 94 13 59 45 64 | 68 19 95 12 27 45 70 16 42 80 36 87 64 78 63 21 81 35 57 25 54 59 94 52 38')\n"
   ]
  },
  {
   "cell_type": "code",
   "execution_count": 24,
   "metadata": {},
   "outputs": [
    {
     "name": "stdout",
     "output_type": "stream",
     "text": [
      "11827296\n"
     ]
    }
   ],
   "source": [
    "def main(): \n",
    "    count = 1\n",
    "    copies = [0]\n",
    "    won = 0\n",
    "    for line in lines: \n",
    "        data = parseGame(line)\n",
    "        winning, owned = data['result']\n",
    "        count = 0\n",
    "        for winNum in winning:\n",
    "            if winNum in owned:\n",
    "                count += 1\n",
    "        won += copies[0] + 1\n",
    "\n",
    "        current = copies.pop(0)\n",
    "        if count > len(copies):\n",
    "            copies += [0] * (count - len(copies))\n",
    "        if count > 0:\n",
    "            copies[:count] = [i + current + 1 for i in copies[:count]]\n",
    "        else:\n",
    "            if len(copies) == 0:\n",
    "                copies.append(0)\n",
    "\n",
    "    print(won)\n",
    "\n",
    "main()"
   ]
  }
 ],
 "metadata": {
  "kernelspec": {
   "display_name": "Python 3",
   "language": "python",
   "name": "python3"
  },
  "language_info": {
   "codemirror_mode": {
    "name": "ipython",
    "version": 3
   },
   "file_extension": ".py",
   "mimetype": "text/x-python",
   "name": "python",
   "nbconvert_exporter": "python",
   "pygments_lexer": "ipython3",
   "version": "3.10.13"
  }
 },
 "nbformat": 4,
 "nbformat_minor": 2
}
